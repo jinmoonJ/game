{
 "cells": [
  {
   "cell_type": "markdown",
   "metadata": {},
   "source": [
    "## 3. 평균 구하기\n",
    "- 제시된 list의 평균 값을 출력하시오"
   ]
  },
  {
   "cell_type": "code",
   "execution_count": 2,
   "metadata": {},
   "outputs": [
    {
     "name": "stdout",
     "output_type": "stream",
     "text": [
      "87.75\n",
      "87.75\n"
     ]
    }
   ],
   "source": [
    "scores = [80, 89, 99, 83] # -> 87.75\n",
    "\n",
    "sum_scores = sum(scores)\n",
    "sum_count = len(scores)\n",
    "\n",
    "avg_scores = sum_scores / sum_count\n",
    "print(avg_scores)\n",
    "\n",
    "result = 0 # 누적 점수의 합을 저장하는 변수\n",
    "for score in scores:\n",
    "    result += score #\n",
    "print(result / len(scores))"
   ]
  },
  {
   "cell_type": "code",
   "execution_count": null,
   "metadata": {},
   "outputs": [],
   "source": []
  }
 ],
 "metadata": {
  "kernelspec": {
   "display_name": "Python 3.9.13 64-bit",
   "language": "python",
   "name": "python3"
  },
  "language_info": {
   "codemirror_mode": {
    "name": "ipython",
    "version": 3
   },
   "file_extension": ".py",
   "mimetype": "text/x-python",
   "name": "python",
   "nbconvert_exporter": "python",
   "pygments_lexer": "ipython3",
   "version": "3.9.13"
  },
  "orig_nbformat": 4,
  "vscode": {
   "interpreter": {
    "hash": "3d3579b64ed644892bc49d0da2d1890659408e00eebf25200bc250e1696a02dd"
   }
  }
 },
 "nbformat": 4,
 "nbformat_minor": 2
}
