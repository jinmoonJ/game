{
 "cells": [
  {
   "cell_type": "markdown",
   "metadata": {},
   "source": [
    "## 1. 세로로 출력하기\n",
    "\n",
    "자연수 number를 입력받아, 1부터 number까지 세로로 출력하시오"
   ]
  },
  {
   "cell_type": "code",
   "execution_count": 7,
   "metadata": {},
   "outputs": [
    {
     "name": "stdout",
     "output_type": "stream",
     "text": [
      "1\n",
      "2\n",
      "3\n",
      "4\n",
      "5\n"
     ]
    }
   ],
   "source": [
    "number = int(input())\n",
    "\n",
    "for i in range(1, number+1):\n",
    "    print(i)"
   ]
  },
  {
   "cell_type": "markdown",
   "metadata": {},
   "source": [
    "## 2. 가로로 출력하기"
   ]
  },
  {
   "cell_type": "code",
   "execution_count": 9,
   "metadata": {},
   "outputs": [
    {
     "name": "stdout",
     "output_type": "stream",
     "text": [
      "1 2 3 4 5 "
     ]
    }
   ],
   "source": [
    "number = int(input())\n",
    "\n",
    "for i in range(1, number+1):\n",
    "    print(i, end=\" \") #  end라는 파라미터에는 값을 \"\"으로 지정해서 준다. 키워드 인자"
   ]
  },
  {
   "cell_type": "markdown",
   "metadata": {},
   "source": [
    "## 3. 거꾸로 세로로 출력"
   ]
  },
  {
   "cell_type": "code",
   "execution_count": 13,
   "metadata": {},
   "outputs": [
    {
     "name": "stdout",
     "output_type": "stream",
     "text": [
      "5\n",
      "4\n",
      "3\n",
      "2\n",
      "1\n",
      "0\n"
     ]
    }
   ],
   "source": [
    "number = int(input())\n",
    "\n",
    "for i in range(number, -1, -1): # 5 4 3 2 1 // -1\n",
    "    print(i)"
   ]
  },
  {
   "cell_type": "markdown",
   "metadata": {},
   "source": [
    "## 4. 거꾸로 가로로"
   ]
  },
  {
   "cell_type": "code",
   "execution_count": 15,
   "metadata": {},
   "outputs": [
    {
     "name": "stdout",
     "output_type": "stream",
     "text": [
      "5 4 3 2 1 0 "
     ]
    }
   ],
   "source": [
    "number = int(input())\n",
    "\n",
    "for i in range(number, -1, -1):\n",
    "    print(i, end= \" \") # end = 출력하고 끝에 붙여주세요 (기본값 : 줄바꿈)"
   ]
  },
  {
   "cell_type": "markdown",
   "metadata": {},
   "source": [
    "## 5. N줄 덧셈"
   ]
  },
  {
   "cell_type": "code",
   "execution_count": 17,
   "metadata": {},
   "outputs": [
    {
     "name": "stdout",
     "output_type": "stream",
     "text": [
      "55\n"
     ]
    }
   ],
   "source": [
    "number = int(input())\n",
    "\n",
    "total = 0 # 누적으로 합을 저장할 변수\n",
    "# 0 + 1\n",
    "# (0 + 1) + 2\n",
    "# (0 + 1 + 2) + 3\n",
    "# ....\n",
    "for i in range(1, number+1):\n",
    "    total = total + i\n",
    "\n",
    "print(total)"
   ]
  },
  {
   "cell_type": "markdown",
   "metadata": {},
   "source": [
    "## 6. 삼각형 출력하기"
   ]
  },
  {
   "cell_type": "code",
   "execution_count": 28,
   "metadata": {},
   "outputs": [
    {
     "name": "stdout",
     "output_type": "stream",
     "text": [
      "*\n",
      "**\n",
      "***\n",
      "****\n",
      "*****\n",
      "******\n",
      "*******\n",
      "********\n",
      "        *\n",
      "       **\n",
      "      ***\n",
      "     ****\n",
      "    *****\n",
      "   ******\n",
      "  *******\n",
      " ********\n"
     ]
    }
   ],
   "source": [
    "N = int(input())\n",
    "\n",
    "for i in range(1, N+1): # 중첩 반복문\n",
    "    for j in range(1, i+1):\n",
    "        print(\"*\", end = \"\")\n",
    "    print() # 위에서 print() 함수를 호출하면 end= \" \"로 바꿔줬기 때문에 줄바꿈이 되지 않는다. 여기서 줄바꿈을 실행\n",
    "    \n",
    "for i in range(1, N+1): # 중첩 반복문\n",
    "    for j in range(N-i, -1, -1):\n",
    "        print(\" \", end = \"\") # 공백을 먼저 출력해준다. 공백을 출력하는 갯수는 N - 별의 개수\n",
    "    print(\"*\" * i) # 공백을 출력하고 나서 나머지 갯수 만큼별을 출력해준다.\n",
    "    \n",
    "# N = 7\n",
    "\n",
    "# i 가 1일때는 한줄에 * 하나 출력\n",
    "# i 가 2일때는 한줄에 * 두개 출력\n",
    "# i 가 3일때는 한줄에 * 세개 출력"
   ]
  },
  {
   "cell_type": "markdown",
   "metadata": {},
   "source": [
    "## 7. 중간값 찾기"
   ]
  },
  {
   "cell_type": "code",
   "execution_count": 32,
   "metadata": {},
   "outputs": [
    {
     "name": "stdout",
     "output_type": "stream",
     "text": [
      "64\n"
     ]
    }
   ],
   "source": [
    "numbers = [85, 72, 38, 80, 69, 65, 68, 96, 22, 49, 67,\n",
    "51, 61, 63, 87, 66, 24, 80, 83, 71, 60, 64,\n",
    "52, 90, 60, 49, 31, 23, 99, 94, 11, 25, 24]\n",
    "\n",
    "# 중간값의 위치? 인덱스?\n",
    "center = len(numbers) // 2 # 리스트의 가운데 인덱스를 얻어오기\n",
    "sorted_numbers = sorted(numbers) # sorted() 함수를 사용해서 리스트 정렬\n",
    "print(sorted_numbers[center])"
   ]
  }
 ],
 "metadata": {
  "kernelspec": {
   "display_name": "Python 3.9.13 64-bit",
   "language": "python",
   "name": "python3"
  },
  "language_info": {
   "codemirror_mode": {
    "name": "ipython",
    "version": 3
   },
   "file_extension": ".py",
   "mimetype": "text/x-python",
   "name": "python",
   "nbconvert_exporter": "python",
   "pygments_lexer": "ipython3",
   "version": "3.9.13"
  },
  "orig_nbformat": 4,
  "vscode": {
   "interpreter": {
    "hash": "3d3579b64ed644892bc49d0da2d1890659408e00eebf25200bc250e1696a02dd"
   }
  }
 },
 "nbformat": 4,
 "nbformat_minor": 2
}
